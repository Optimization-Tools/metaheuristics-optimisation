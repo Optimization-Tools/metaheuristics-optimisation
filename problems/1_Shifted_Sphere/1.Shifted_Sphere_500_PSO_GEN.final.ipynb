{
 "cells": [
  {
   "cell_type": "markdown",
   "metadata": {},
   "source": [
    "# Shifted sphere, dimension=500\n",
    "**Using Pygmo PSO_GEN (Particle Swarm Optimisation GENerational)**"
   ]
  },
  {
   "cell_type": "code",
   "execution_count": 1,
   "metadata": {},
   "outputs": [],
   "source": [
    "import sys\n",
    "sys.path.append(\"../\")"
   ]
  },
  {
   "cell_type": "code",
   "execution_count": 2,
   "metadata": {},
   "outputs": [],
   "source": [
    "import pygmo as pg\n",
    "from functions_class import Shifted_sphere\n",
    "from helpers import pso_gen\n",
    "from helpers import get_stats, plot_f_minus_fstar_10"
   ]
  },
  {
   "cell_type": "code",
   "execution_count": 3,
   "metadata": {},
   "outputs": [],
   "source": [
    "dimension = 500"
   ]
  },
  {
   "cell_type": "code",
   "execution_count": 4,
   "metadata": {},
   "outputs": [],
   "source": [
    "params = {\n",
    "    \"nb_generation\": 5000,\n",
    "    \"omega\": 0.7,\n",
    "    \"eta1\": 0.5,\n",
    "    \"eta2\": 4,\n",
    "    \"max_vel\": 0.05,\n",
    "    \"variant\": 6,\n",
    "    \"neighb_type\": 2,\n",
    "    \"neighb_param\": 4\n",
    "         }"
   ]
  },
  {
   "cell_type": "code",
   "execution_count": 5,
   "metadata": {},
   "outputs": [],
   "source": [
    "population_size = 50"
   ]
  },
  {
   "cell_type": "code",
   "execution_count": null,
   "metadata": {},
   "outputs": [],
   "source": [
    "runs = []\n",
    "for i in range(10):\n",
    "    # re-initialise the problem\n",
    "    # i.e. to get different (random)\n",
    "    # initial solution\n",
    "    sphere_pb = pg.problem(Shifted_sphere(dimension))\n",
    "    logs, duration, champion_f, champion_x = pso_gen(sphere_pb, population_size, params)\n",
    "    fevals = [log[1] for log in logs]\n",
    "    fitness_best = [log[2] for log in logs]\n",
    "    runs.append([fevals, fitness_best, duration, champion_f[0], champion_x])"
   ]
  },
  {
   "cell_type": "code",
   "execution_count": null,
   "metadata": {},
   "outputs": [],
   "source": [
    "stats = get_stats(runs, Shifted_sphere.BIAS,\n",
    "                  Shifted_sphere.OPTIMUM, population_size)\n",
    "\n",
    "duration = stats[\"duration\"]\n",
    "\n",
    "if duration.seconds == 0:\n",
    "    duration = \"{0}ms\".format(duration.microseconds//1000)\n",
    "else:\n",
    "    duration = \"{0}mn:{1}s\".format(duration.seconds//60,\n",
    "                                   duration.seconds%60)\n",
    "print(\"--- Statistics ---\")\n",
    "print(\"Population size of {0} and {1} generations\".\n",
    "      format(population_size, params[\"nb_generation\"]))\n",
    "print(\"-> Best run duration:                        | {0}\".format(duration))\n",
    "print(\"-> Best f value:                             | {0:12.7f}\".format(stats[\"best_champion_f\"]))\n",
    "print(\"-> Difference with function's optimum value: | {0:13.7f}\".format(stats[\"diff_optimum\"]))\n",
    "print(\"-> L2 norm to optimum solution:              | {0:13.7f}\".format(stats[\"norm2_to_optimum\"]))\n",
    "print(\"-> Number of function evaluations            | {0:,}\".format(stats[\"nb_fevals\"]))"
   ]
  },
  {
   "cell_type": "code",
   "execution_count": null,
   "metadata": {},
   "outputs": [],
   "source": [
    "plot_f_minus_fstar_10(runs, Shifted_sphere.BIAS, title=\"Shifted sphere, dim=500, PSO_GEN\")"
   ]
  },
  {
   "cell_type": "code",
   "execution_count": null,
   "metadata": {},
   "outputs": [],
   "source": [
    "plot_f_minus_fstar_10(runs, Shifted_sphere.BIAS,\n",
    "                      title=\"Shifted sphere, dim=500, PSO_GEN\",\n",
    "                      ylog=False, ylim=[0, 2000])"
   ]
  },
  {
   "cell_type": "code",
   "execution_count": null,
   "metadata": {},
   "outputs": [],
   "source": []
  }
 ],
 "metadata": {
  "kernelspec": {
   "display_name": "Python 3",
   "language": "python",
   "name": "python3"
  },
  "language_info": {
   "codemirror_mode": {
    "name": "ipython",
    "version": 3
   },
   "file_extension": ".py",
   "mimetype": "text/x-python",
   "name": "python",
   "nbconvert_exporter": "python",
   "pygments_lexer": "ipython3",
   "version": "3.7.6"
  }
 },
 "nbformat": 4,
 "nbformat_minor": 4
}
