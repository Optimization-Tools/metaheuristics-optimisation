{
 "cells": [
  {
   "cell_type": "code",
   "execution_count": 1,
   "metadata": {},
   "outputs": [],
   "source": [
    "import numpy as np"
   ]
  },
  {
   "cell_type": "markdown",
   "metadata": {},
   "source": [
    "### Functions"
   ]
  },
  {
   "cell_type": "code",
   "execution_count": 2,
   "metadata": {},
   "outputs": [],
   "source": [
    "def complete_sequence(child, parent, cx_point, d):\n",
    "    idx_child = idx_parent = cx_point[1]\n",
    "    not_complete = True\n",
    "    # complete upper range of the sequence first\n",
    "    while not_complete:\n",
    "    # for idx in range(cx_point[1], dim):\n",
    "        if parent[idx_parent] not in child:\n",
    "            child[idx_child] = parent[idx_parent]\n",
    "            if idx_child == (d-1):\n",
    "                idx_child = 0\n",
    "            else:\n",
    "                idx_child = idx_child + 1\n",
    "        if idx_parent == (d-1):\n",
    "            idx_parent = 0\n",
    "        else:\n",
    "            idx_parent = idx_parent + 1\n",
    "        # testing if sequence is complete\n",
    "        # i.e. idx_child = cx_point[0]\n",
    "        if idx_child == cx_point[0]:\n",
    "            not_complete = False\n",
    "    return(child)"
   ]
  },
  {
   "cell_type": "code",
   "execution_count": 3,
   "metadata": {},
   "outputs": [],
   "source": [
    "rng = np.random.default_rng()"
   ]
  },
  {
   "cell_type": "markdown",
   "metadata": {},
   "source": [
    "Initialise popsize rows of dim = dim, **with no replacement** in each row"
   ]
  },
  {
   "cell_type": "code",
   "execution_count": 11,
   "metadata": {},
   "outputs": [
    {
     "data": {
      "text/plain": [
       "0.3878264781416576"
      ]
     },
     "execution_count": 11,
     "metadata": {},
     "output_type": "execute_result"
    }
   ],
   "source": [
    "rng.uniform()"
   ]
  },
  {
   "cell_type": "code",
   "execution_count": 4,
   "metadata": {},
   "outputs": [],
   "source": [
    "popsize = 10\n",
    "dim = 8"
   ]
  },
  {
   "cell_type": "code",
   "execution_count": 5,
   "metadata": {
    "scrolled": true
   },
   "outputs": [],
   "source": [
    "a = rng.choice(dim, size=dim, replace=False)\n",
    "for _ in range(popsize-1):\n",
    "    a = np.concatenate((a,rng.choice(dim, size=dim, replace=False)), axis=0)"
   ]
  },
  {
   "cell_type": "code",
   "execution_count": 6,
   "metadata": {},
   "outputs": [],
   "source": [
    "a = a.reshape(-1, dim)"
   ]
  },
  {
   "cell_type": "code",
   "execution_count": 7,
   "metadata": {},
   "outputs": [
    {
     "data": {
      "text/plain": [
       "array([[0, 7, 5, 4, 3, 2, 6, 1],\n",
       "       [7, 6, 1, 2, 3, 0, 5, 4],\n",
       "       [5, 4, 1, 6, 0, 2, 7, 3],\n",
       "       [1, 5, 4, 3, 2, 7, 6, 0],\n",
       "       [6, 1, 7, 2, 0, 5, 3, 4],\n",
       "       [1, 6, 7, 3, 2, 5, 0, 4],\n",
       "       [6, 4, 7, 2, 5, 3, 0, 1],\n",
       "       [3, 6, 7, 2, 4, 0, 5, 1],\n",
       "       [4, 2, 0, 5, 6, 7, 3, 1],\n",
       "       [1, 0, 4, 6, 5, 3, 2, 7]], dtype=int64)"
      ]
     },
     "execution_count": 7,
     "metadata": {},
     "output_type": "execute_result"
    }
   ],
   "source": [
    "a"
   ]
  },
  {
   "cell_type": "code",
   "execution_count": null,
   "metadata": {},
   "outputs": [],
   "source": []
  },
  {
   "cell_type": "code",
   "execution_count": 8,
   "metadata": {},
   "outputs": [],
   "source": [
    "b = np.array([1,1,0,4,4,8])"
   ]
  },
  {
   "cell_type": "code",
   "execution_count": 9,
   "metadata": {},
   "outputs": [
    {
     "data": {
      "text/plain": [
       "array([[7, 6, 1, 2, 3, 0, 5, 4],\n",
       "       [7, 6, 1, 2, 3, 0, 5, 4],\n",
       "       [0, 7, 5, 4, 3, 2, 6, 1],\n",
       "       [6, 1, 7, 2, 0, 5, 3, 4],\n",
       "       [6, 1, 7, 2, 0, 5, 3, 4],\n",
       "       [4, 2, 0, 5, 6, 7, 3, 1]], dtype=int64)"
      ]
     },
     "execution_count": 9,
     "metadata": {},
     "output_type": "execute_result"
    }
   ],
   "source": [
    "a[b]"
   ]
  },
  {
   "cell_type": "code",
   "execution_count": null,
   "metadata": {},
   "outputs": [],
   "source": []
  },
  {
   "cell_type": "markdown",
   "metadata": {},
   "source": [
    "## Swap Mutation (inplace)"
   ]
  },
  {
   "cell_type": "code",
   "execution_count": 35,
   "metadata": {},
   "outputs": [],
   "source": [
    "dim = a.shape[1]\n",
    "for i in range(a.shape[0]):\n",
    "    idxs = rng.choice(dim, size=2, replace=False)\n",
    "    temp = a[i][idxs[0]]\n",
    "    a[i][idxs[0]] = a[i][idxs[1]]\n",
    "    a[i][idxs[1]] = temp"
   ]
  },
  {
   "cell_type": "markdown",
   "metadata": {},
   "source": [
    "## Inversion Mutation (inplace)"
   ]
  },
  {
   "cell_type": "code",
   "execution_count": 146,
   "metadata": {},
   "outputs": [],
   "source": [
    "max_width = 3\n",
    "dim = a.shape[1]\n",
    "for i in range(a.shape[0]):\n",
    "    invalid_sequence = True\n",
    "    \n",
    "    # By ordering, we somehow prevent inversion happening\n",
    "    # on the bounds, i.e. inversion on say indexes\n",
    "    # 8.9.0.1 -> 1.0.9.8 will never happen\n",
    "    # Effect is unknown. In theory will be better to allow\n",
    "    # also these types of inversion.\n",
    "    while invalid_sequence:\n",
    "        sequence = np.sort(rng.choice(dim, size=2, replace=False))\n",
    "        if ((sequence[1] - sequence[0]) <= max_width) and \\\n",
    "           ((sequence[1] - sequence[0]) > 1):\n",
    "            invalid_sequence = False\n",
    "    #sequence = np.arange(sequence[0], sequence[1])\n",
    "    #a[i][sequence] = a[i][sequence][::-1]\n",
    "    a[i][sequence[0]:sequence[1]] = a[i][sequence[0]:sequence[1]][::-1]"
   ]
  },
  {
   "cell_type": "markdown",
   "metadata": {},
   "source": [
    "## Scramble Mutation (inplace)"
   ]
  },
  {
   "cell_type": "code",
   "execution_count": 160,
   "metadata": {},
   "outputs": [
    {
     "name": "stdout",
     "output_type": "stream",
     "text": [
      "[3 5]\n",
      "[1 4]\n",
      "[3 5]\n",
      "[4 6]\n",
      "[5 7]\n",
      "[4 6]\n",
      "[4 7]\n",
      "[5 7]\n",
      "[4 6]\n",
      "[4 7]\n"
     ]
    }
   ],
   "source": [
    "max_width = 3\n",
    "dim = a.shape[1]\n",
    "for i in range(a.shape[0]):\n",
    "    invalid_sequence = True\n",
    "    \n",
    "    # By ordering, we somehow prevent inversion happening\n",
    "    # on the bounds, i.e. inversion on say indexes\n",
    "    # 8.9.0.1 -> 1.0.9.8 will never happen\n",
    "    # Effect is unknown. In theory will be better to allow\n",
    "    # also these types of inversion.\n",
    "    while invalid_sequence:\n",
    "        sequence = np.sort(rng.choice(dim, size=2, replace=False))\n",
    "        if ((sequence[1] - sequence[0]) <= max_width) and \\\n",
    "           ((sequence[1] - sequence[0]) > 1):\n",
    "            invalid_sequence = False\n",
    "    print(sequence)\n",
    "    rng.shuffle(a[i][sequence[0]:sequence[1]])"
   ]
  },
  {
   "cell_type": "code",
   "execution_count": 168,
   "metadata": {},
   "outputs": [
    {
     "data": {
      "text/plain": [
       "array([[7, 5, 2, 1, 4, 0, 3, 6],\n",
       "       [1, 6, 0, 3, 4, 7, 2, 5],\n",
       "       [4, 2, 1, 7, 5, 3, 6, 0],\n",
       "       [0, 5, 4, 1, 7, 3, 6, 2],\n",
       "       [1, 3, 0, 7, 4, 5, 2, 6],\n",
       "       [5, 1, 2, 4, 6, 3, 0, 7],\n",
       "       [4, 6, 7, 3, 5, 1, 2, 0],\n",
       "       [0, 3, 2, 1, 6, 5, 4, 7],\n",
       "       [5, 0, 1, 7, 6, 3, 2, 4],\n",
       "       [4, 0, 1, 2, 6, 7, 3, 5]], dtype=int64)"
      ]
     },
     "execution_count": 168,
     "metadata": {},
     "output_type": "execute_result"
    }
   ],
   "source": [
    "a"
   ]
  },
  {
   "cell_type": "code",
   "execution_count": 170,
   "metadata": {},
   "outputs": [
    {
     "data": {
      "text/plain": [
       "array([5, 2], dtype=int64)"
      ]
     },
     "execution_count": 170,
     "metadata": {},
     "output_type": "execute_result"
    }
   ],
   "source": [
    "rng.permutation(a[0][1:3])"
   ]
  },
  {
   "cell_type": "code",
   "execution_count": 13,
   "metadata": {},
   "outputs": [
    {
     "data": {
      "text/plain": [
       "{'parm1': 1, 'parm2': 0.6}"
      ]
     },
     "execution_count": 13,
     "metadata": {},
     "output_type": "execute_result"
    }
   ],
   "source": [
    "d = {\"parm1\": 1, \"parm2\": 0.6}\n",
    "d"
   ]
  },
  {
   "cell_type": "code",
   "execution_count": 18,
   "metadata": {},
   "outputs": [
    {
     "ename": "NameError",
     "evalue": "name 'e' is not defined",
     "output_type": "error",
     "traceback": [
      "\u001b[1;31m---------------------------------------------------------------------------\u001b[0m",
      "\u001b[1;31mNameError\u001b[0m                                 Traceback (most recent call last)",
      "\u001b[1;32m<ipython-input-18-afb8d05b048f>\u001b[0m in \u001b[0;36m<module>\u001b[1;34m\u001b[0m\n\u001b[1;32m----> 1\u001b[1;33m \u001b[1;32mif\u001b[0m \u001b[1;32mnot\u001b[0m \u001b[0me\u001b[0m\u001b[1;33m:\u001b[0m\u001b[1;33m\u001b[0m\u001b[1;33m\u001b[0m\u001b[0m\n\u001b[0m\u001b[0;32m      2\u001b[0m     \u001b[0mprint\u001b[0m\u001b[1;33m(\u001b[0m\u001b[1;34m\"not d\"\u001b[0m\u001b[1;33m)\u001b[0m\u001b[1;33m\u001b[0m\u001b[1;33m\u001b[0m\u001b[0m\n",
      "\u001b[1;31mNameError\u001b[0m: name 'e' is not defined"
     ]
    }
   ],
   "source": [
    "if not e:\n",
    "    print(\"not d\")"
   ]
  },
  {
   "cell_type": "code",
   "execution_count": 31,
   "metadata": {},
   "outputs": [],
   "source": [
    "class testclass:\n",
    "    def __init__(self, a, b, c):\n",
    "        if not a:\n",
    "            self.a = 0\n",
    "        else:\n",
    "            self.a = \"a\"\n",
    "        if not b:\n",
    "            self.b = {\"d\": 1, \"e\": 2}\n",
    "        elif \"d\" not in b:\n",
    "            self.b = {\"d\": 1}\n",
    "        self.c = 3\n",
    "    def callme(self):\n",
    "        print(self.a, self.b, self.c)"
   ]
  },
  {
   "cell_type": "code",
   "execution_count": 35,
   "metadata": {},
   "outputs": [],
   "source": [
    "t = testclass(1,{\"a\": 4},3)"
   ]
  },
  {
   "cell_type": "code",
   "execution_count": 36,
   "metadata": {},
   "outputs": [
    {
     "name": "stdout",
     "output_type": "stream",
     "text": [
      "a {'d': 1} 3\n"
     ]
    }
   ],
   "source": [
    "t.callme()"
   ]
  },
  {
   "cell_type": "code",
   "execution_count": null,
   "metadata": {},
   "outputs": [],
   "source": []
  },
  {
   "cell_type": "code",
   "execution_count": 16,
   "metadata": {},
   "outputs": [
    {
     "name": "stdout",
     "output_type": "stream",
     "text": [
      "not\n"
     ]
    }
   ],
   "source": [
    "if \"parm31\" not in d:\n",
    "    print(\"not\")\n",
    "else:\n",
    "    print(\"is\")"
   ]
  },
  {
   "cell_type": "code",
   "execution_count": 252,
   "metadata": {},
   "outputs": [],
   "source": [
    "parent1 = a[4]\n",
    "parent2 = a[8]"
   ]
  },
  {
   "cell_type": "code",
   "execution_count": 253,
   "metadata": {},
   "outputs": [
    {
     "data": {
      "text/plain": [
       "array([2, 6], dtype=int64)"
      ]
     },
     "execution_count": 253,
     "metadata": {},
     "output_type": "execute_result"
    }
   ],
   "source": [
    "crossover_points = np.sort(rng.choice(dim, size=2, replace=False))\n",
    "crossover_points"
   ]
  },
  {
   "cell_type": "code",
   "execution_count": 254,
   "metadata": {},
   "outputs": [
    {
     "data": {
      "text/plain": [
       "array([2, 3, 4, 5], dtype=int64)"
      ]
     },
     "execution_count": 254,
     "metadata": {},
     "output_type": "execute_result"
    }
   ],
   "source": [
    "crossover_range = np.arange(crossover_points[0], crossover_points[1])\n",
    "crossover_range"
   ]
  },
  {
   "cell_type": "code",
   "execution_count": 255,
   "metadata": {},
   "outputs": [],
   "source": [
    "child1 = -1*np.ones(dim, dtype=int)\n",
    "child2 = -1*np.ones(dim, dtype=int)"
   ]
  },
  {
   "cell_type": "code",
   "execution_count": 256,
   "metadata": {},
   "outputs": [
    {
     "data": {
      "text/plain": [
       "(array([-1, -1,  7,  4,  3,  2, -1, -1]),\n",
       " array([-1, -1,  5,  4,  1,  3, -1, -1]))"
      ]
     },
     "execution_count": 256,
     "metadata": {},
     "output_type": "execute_result"
    }
   ],
   "source": [
    "child1[crossover_range] = parent2[crossover_range]\n",
    "child2[crossover_range] = parent1[crossover_range]\n",
    "child1, child2"
   ]
  },
  {
   "cell_type": "code",
   "execution_count": 257,
   "metadata": {},
   "outputs": [
    {
     "data": {
      "text/plain": [
       "(array([5, 1, 7, 4, 3, 2, 6, 0]), array([5, 1, 7, 4, 3, 2, 6, 0]))"
      ]
     },
     "execution_count": 257,
     "metadata": {},
     "output_type": "execute_result"
    }
   ],
   "source": [
    "c = complete_sequence(child1, parent1, crossover_points, dim)\n",
    "c, child1"
   ]
  },
  {
   "cell_type": "code",
   "execution_count": 258,
   "metadata": {},
   "outputs": [
    {
     "data": {
      "text/plain": [
       "array([7, 2, 5, 4, 1, 3, 6, 0], dtype=int64)"
      ]
     },
     "execution_count": 258,
     "metadata": {},
     "output_type": "execute_result"
    }
   ],
   "source": [
    "parent1"
   ]
  },
  {
   "cell_type": "code",
   "execution_count": 259,
   "metadata": {},
   "outputs": [
    {
     "data": {
      "text/plain": [
       "(array([7, 2, 5, 4, 1, 3, 0, 6]), array([7, 2, 5, 4, 1, 3, 0, 6]))"
      ]
     },
     "execution_count": 259,
     "metadata": {},
     "output_type": "execute_result"
    }
   ],
   "source": [
    "c = complete_sequence(child2, parent2, crossover_points, dim)\n",
    "c, child2"
   ]
  },
  {
   "cell_type": "code",
   "execution_count": 260,
   "metadata": {},
   "outputs": [
    {
     "data": {
      "text/plain": [
       "array([6, 5, 7, 4, 3, 2, 1, 0], dtype=int64)"
      ]
     },
     "execution_count": 260,
     "metadata": {},
     "output_type": "execute_result"
    }
   ],
   "source": [
    "parent2"
   ]
  },
  {
   "cell_type": "code",
   "execution_count": 261,
   "metadata": {},
   "outputs": [],
   "source": [
    "if offsprings is None:\n",
    "    offsprings = child1\n",
    "    offsprings = np.concatenate((offsprings,child2), axis=0)\n",
    "else:\n",
    "    offsprings = np.concatenate((offsprings,child1), axis=0)\n",
    "    offsprings = np.concatenate((offsprings,child2), axis=0)"
   ]
  },
  {
   "cell_type": "code",
   "execution_count": 262,
   "metadata": {},
   "outputs": [
    {
     "data": {
      "text/plain": [
       "array([[7, 5, 3, 2, 6, 4, 1, 0],\n",
       "       [1, 7, 0, 6, 2, 4, 5, 3],\n",
       "       [4, 2, 5, 1, 0, 7, 3, 6],\n",
       "       [5, 6, 4, 1, 3, 0, 7, 2],\n",
       "       [5, 1, 7, 4, 3, 2, 6, 0],\n",
       "       [7, 2, 5, 4, 1, 3, 0, 6]])"
      ]
     },
     "execution_count": 262,
     "metadata": {},
     "output_type": "execute_result"
    }
   ],
   "source": [
    "offsprings.reshape(-1,dim)"
   ]
  },
  {
   "cell_type": "code",
   "execution_count": null,
   "metadata": {},
   "outputs": [],
   "source": []
  },
  {
   "cell_type": "code",
   "execution_count": 264,
   "metadata": {},
   "outputs": [
    {
     "name": "stdout",
     "output_type": "stream",
     "text": [
      "0\n",
      "1\n",
      "2\n",
      "3\n",
      "4\n",
      "5\n",
      "6\n",
      "7\n",
      "8\n",
      "9\n",
      "10\n"
     ]
    }
   ],
   "source": [
    "i = 0\n",
    "while i <= 10:\n",
    "    print(i)\n",
    "    i = i + 1"
   ]
  },
  {
   "cell_type": "code",
   "execution_count": null,
   "metadata": {},
   "outputs": [],
   "source": []
  },
  {
   "cell_type": "code",
   "execution_count": null,
   "metadata": {},
   "outputs": [],
   "source": [
    "def ordered_crossover(parent1, parent2):\n",
    "    rng = np.random.default_rng()\n",
    "    # select two cross-over points\n",
    "    # Making sure we don't have twice the same index (replace=False)\n",
    "    crossover_points = np.sort(rng.choice(dim, size=2, replace=False))\n",
    "    crossover_range = np.arange(crossover_points[0], crossover_points[1])\n",
    "    #initialise child1,2 array\n",
    "    child1 = child2 = -1*np.ones(10)\n",
    "    #keep crossover genes sequence for child1,2\n",
    "    child1_sequence = parent2[crossover_range]\n",
    "    child2_sequence = parent1[crossover_range]\n",
    "    #mutate child1,2\n",
    "    child1[crossover_range] = parent2[crossover_range]\n",
    "    child2[crossover_range] = parent1[crossover_range]\n",
    "    #complete gene sequences\n",
    "    \n",
    "    \n",
    "    \n",
    "    "
   ]
  },
  {
   "cell_type": "code",
   "execution_count": 116,
   "metadata": {},
   "outputs": [],
   "source": []
  },
  {
   "cell_type": "code",
   "execution_count": 117,
   "metadata": {},
   "outputs": [
    {
     "data": {
      "text/plain": [
       "(array([1, 6, 2]), array([11, 14,  7]))"
      ]
     },
     "execution_count": 117,
     "metadata": {},
     "output_type": "execute_result"
    }
   ],
   "source": []
  },
  {
   "cell_type": "code",
   "execution_count": 118,
   "metadata": {},
   "outputs": [
    {
     "data": {
      "text/plain": [
       "(array([-1,  1,  6,  2, -1, -1, -1, -1]),\n",
       " array([-1, 11, 14,  7, -1, -1, -1, -1]))"
      ]
     },
     "execution_count": 118,
     "metadata": {},
     "output_type": "execute_result"
    }
   ],
   "source": []
  },
  {
   "cell_type": "code",
   "execution_count": 120,
   "metadata": {},
   "outputs": [],
   "source": []
  },
  {
   "cell_type": "code",
   "execution_count": 121,
   "metadata": {},
   "outputs": [
    {
     "data": {
      "text/plain": [
       "array([ 7,  1,  6,  2, 19, 11,  5, 14])"
      ]
     },
     "execution_count": 121,
     "metadata": {},
     "output_type": "execute_result"
    }
   ],
   "source": [
    "c"
   ]
  },
  {
   "cell_type": "code",
   "execution_count": 123,
   "metadata": {},
   "outputs": [
    {
     "data": {
      "text/plain": [
       "(array([ 7,  1,  6,  2, 19, 11,  5, 14]),\n",
       " array([11, 11, 14,  7, 19,  1, 11,  5]))"
      ]
     },
     "execution_count": 123,
     "metadata": {},
     "output_type": "execute_result"
    }
   ],
   "source": [
    "child1, parent1"
   ]
  },
  {
   "cell_type": "code",
   "execution_count": null,
   "metadata": {},
   "outputs": [],
   "source": [
    "#complete child1 sequence, starting by the upper range\n",
    "idx_child1 = crossover_points[1]\n",
    "# we loop for the whole remaining sequence of parent1\n",
    "# i.e. dim - crossover_range.shape[0]\n",
    "for idx in range(dim - crossover_range.shape[0]):\n",
    "    # child1 (using parent1)\n",
    "    if parent1[idx] not in child1:\n",
    "        child1[idx_child1] = parent1[idx]\n",
    "        idx_child1 = idx_child1 + 1\n",
    "    # child2 (using parent2)\n",
    "    if parent2[idx] not in child2:\n",
    "        child2[idx_child2] = parent2[idx]\n",
    "        idx_child2 = idx_child2 + 1"
   ]
  },
  {
   "cell_type": "code",
   "execution_count": 111,
   "metadata": {},
   "outputs": [
    {
     "name": "stdout",
     "output_type": "stream",
     "text": [
      "4\n",
      "0 5\n",
      "5\n",
      "1 6\n",
      "6\n",
      "2 7\n",
      "7\n",
      "3 0\n",
      "0\n",
      "4 1\n"
     ]
    }
   ],
   "source": [
    "idx_child1 = crossover_points[1]\n",
    "for i in range(dim - crossover_range.shape[0]):\n",
    "    print(idx_child1)\n",
    "    if idx_child1 == (dim - 1):\n",
    "        idx_child1 = 0\n",
    "    else:\n",
    "        idx_child1 = idx_child1 + 1\n",
    "    print(i, idx_child1)"
   ]
  },
  {
   "cell_type": "code",
   "execution_count": 109,
   "metadata": {},
   "outputs": [
    {
     "data": {
      "text/plain": [
       "2"
      ]
     },
     "execution_count": 109,
     "metadata": {},
     "output_type": "execute_result"
    }
   ],
   "source": [
    "crossover_range[1]"
   ]
  },
  {
   "cell_type": "code",
   "execution_count": 98,
   "metadata": {},
   "outputs": [],
   "source": [
    "#complete upper range of the sequence\n",
    "idx_child1 = idx_child2 = crossover_points[1]\n",
    "for idx in range(crossover_points[1], dim):\n",
    "    # child1 (using parent1)\n",
    "    if parent1[idx] not in child1:\n",
    "        child1[idx_child1] = parent1[idx]\n",
    "        idx_child1 = idx_child1 + 1\n",
    "    # child2 (using parent2)\n",
    "    if parent2[idx] not in child2:\n",
    "        child2[idx_child2] = parent2[idx]\n",
    "        idx_child2 = idx_child2 +1"
   ]
  },
  {
   "cell_type": "code",
   "execution_count": 99,
   "metadata": {},
   "outputs": [
    {
     "data": {
      "text/plain": [
       "(array([-1,  1,  6,  2, 19, 11,  5, -1]),\n",
       " array([-1, 11, 14,  7,  3, 19,  2, -1]))"
      ]
     },
     "execution_count": 99,
     "metadata": {},
     "output_type": "execute_result"
    }
   ],
   "source": [
    "child1, child2"
   ]
  },
  {
   "cell_type": "code",
   "execution_count": 88,
   "metadata": {},
   "outputs": [
    {
     "data": {
      "text/plain": [
       "(array([11, 11, 14,  7, 19,  1, 11,  5]),\n",
       " array([15,  1,  6,  2,  3, 19, 19,  2]))"
      ]
     },
     "execution_count": 88,
     "metadata": {},
     "output_type": "execute_result"
    }
   ],
   "source": [
    "parent1, parent2"
   ]
  },
  {
   "cell_type": "code",
   "execution_count": null,
   "metadata": {},
   "outputs": [],
   "source": [
    "#move to the lower range of the sequence\n",
    "#we start where we left of"
   ]
  },
  {
   "cell_type": "code",
   "execution_count": null,
   "metadata": {},
   "outputs": [],
   "source": []
  },
  {
   "cell_type": "code",
   "execution_count": null,
   "metadata": {},
   "outputs": [],
   "source": []
  },
  {
   "cell_type": "code",
   "execution_count": null,
   "metadata": {},
   "outputs": [],
   "source": []
  },
  {
   "cell_type": "code",
   "execution_count": 79,
   "metadata": {},
   "outputs": [
    {
     "name": "stdout",
     "output_type": "stream",
     "text": [
      "not in\n"
     ]
    }
   ],
   "source": [
    "if 3 not in child1:\n",
    "    print(\"not in\")"
   ]
  },
  {
   "cell_type": "code",
   "execution_count": 48,
   "metadata": {},
   "outputs": [],
   "source": [
    "rng = np.random.default_rng()"
   ]
  },
  {
   "cell_type": "code",
   "execution_count": 53,
   "metadata": {},
   "outputs": [
    {
     "data": {
      "text/plain": [
       "array([5, 6], dtype=int64)"
      ]
     },
     "execution_count": 53,
     "metadata": {},
     "output_type": "execute_result"
    }
   ],
   "source": [
    "numbers = rng.choice(dim, size=2, replace=False)\n",
    "numbers"
   ]
  },
  {
   "cell_type": "code",
   "execution_count": 14,
   "metadata": {},
   "outputs": [],
   "source": [
    "b = a[np.array([1,4,2])]"
   ]
  },
  {
   "cell_type": "code",
   "execution_count": 64,
   "metadata": {},
   "outputs": [
    {
     "data": {
      "text/plain": [
       "(array([-1., -1., -1., -1., -1., -1., -1., -1., -1., -1.]),\n",
       " array([-1., -1., -1., -1., -1., -1., -1., -1., -1., -1.]))"
      ]
     },
     "execution_count": 64,
     "metadata": {},
     "output_type": "execute_result"
    }
   ],
   "source": [
    "c1 = c2 = -1*np.ones(10)\n",
    "c1, c2"
   ]
  },
  {
   "cell_type": "code",
   "execution_count": 34,
   "metadata": {},
   "outputs": [
    {
     "data": {
      "text/plain": [
       "array([0, 4])"
      ]
     },
     "execution_count": 34,
     "metadata": {},
     "output_type": "execute_result"
    }
   ],
   "source": [
    "# select two points cross-over\n",
    "crossover_points = np.sort(np.random.randint(0, dim, 2))\n",
    "crossover_points"
   ]
  },
  {
   "cell_type": "code",
   "execution_count": 40,
   "metadata": {},
   "outputs": [
    {
     "data": {
      "text/plain": [
       "array([12,  9, 16,  3])"
      ]
     },
     "execution_count": 40,
     "metadata": {},
     "output_type": "execute_result"
    }
   ],
   "source": [
    "b[1][crossover_range]"
   ]
  },
  {
   "cell_type": "code",
   "execution_count": 36,
   "metadata": {},
   "outputs": [
    {
     "data": {
      "text/plain": [
       "array([12,  9, 16,  3, 19, 19, 14, 10])"
      ]
     },
     "execution_count": 36,
     "metadata": {},
     "output_type": "execute_result"
    }
   ],
   "source": [
    "b[1]"
   ]
  },
  {
   "cell_type": "code",
   "execution_count": 39,
   "metadata": {},
   "outputs": [],
   "source": [
    "crossover_range = np.arange(crossover_points[0], crossover_points[1])"
   ]
  },
  {
   "cell_type": "code",
   "execution_count": 5,
   "metadata": {},
   "outputs": [],
   "source": [
    "def sphere(x):\n",
    "    f = np.square(x).sum(axis=1)\n",
    "    return(f)"
   ]
  },
  {
   "cell_type": "code",
   "execution_count": 42,
   "metadata": {},
   "outputs": [],
   "source": [
    "bob = [-1] * dim"
   ]
  },
  {
   "cell_type": "code",
   "execution_count": 44,
   "metadata": {},
   "outputs": [
    {
     "data": {
      "text/plain": [
       "list"
      ]
     },
     "execution_count": 44,
     "metadata": {},
     "output_type": "execute_result"
    }
   ],
   "source": [
    "type(bob)"
   ]
  },
  {
   "cell_type": "code",
   "execution_count": null,
   "metadata": {},
   "outputs": [],
   "source": []
  },
  {
   "cell_type": "code",
   "execution_count": null,
   "metadata": {},
   "outputs": [],
   "source": []
  },
  {
   "cell_type": "code",
   "execution_count": 6,
   "metadata": {},
   "outputs": [
    {
     "data": {
      "text/plain": [
       "array([107.07088555, 172.27629801,  86.22860948, 142.93427804,\n",
       "        49.78607642,  57.42698245,  80.13234532,  99.12066527,\n",
       "        16.16288705,  11.13031366])"
      ]
     },
     "execution_count": 6,
     "metadata": {},
     "output_type": "execute_result"
    }
   ],
   "source": [
    "popfit = sphere(a)\n",
    "popfit"
   ]
  },
  {
   "cell_type": "code",
   "execution_count": 15,
   "metadata": {},
   "outputs": [
    {
     "data": {
      "text/plain": [
       "array([107.07088561])"
      ]
     },
     "execution_count": 15,
     "metadata": {},
     "output_type": "execute_result"
    }
   ],
   "source": [
    "sphere(np.array([ 1.89629502,  5.08390604, -8.81072359]).reshape(-1,3))"
   ]
  },
  {
   "cell_type": "code",
   "execution_count": null,
   "metadata": {},
   "outputs": [],
   "source": []
  },
  {
   "cell_type": "code",
   "execution_count": 12,
   "metadata": {},
   "outputs": [],
   "source": [
    "idx=np.argsort(popfit)"
   ]
  },
  {
   "cell_type": "code",
   "execution_count": 13,
   "metadata": {},
   "outputs": [
    {
     "data": {
      "text/plain": [
       "array([7, 6, 4, 1, 2, 5, 8, 0, 9, 3], dtype=int64)"
      ]
     },
     "execution_count": 13,
     "metadata": {},
     "output_type": "execute_result"
    }
   ],
   "source": [
    "idx"
   ]
  },
  {
   "cell_type": "code",
   "execution_count": 16,
   "metadata": {},
   "outputs": [
    {
     "data": {
      "text/plain": [
       "array([107.07088555, 172.27629801,  86.22860948, 142.93427804,\n",
       "        49.78607642,  57.42698245,  80.13234532,  99.12066527,\n",
       "        16.16288705,  11.13031366])"
      ]
     },
     "execution_count": 16,
     "metadata": {},
     "output_type": "execute_result"
    }
   ],
   "source": [
    "i = np.arange(popfit.shape[0])\n",
    "popfit[i]"
   ]
  },
  {
   "cell_type": "code",
   "execution_count": 30,
   "metadata": {},
   "outputs": [
    {
     "data": {
      "text/plain": [
       "(10,)"
      ]
     },
     "execution_count": 30,
     "metadata": {},
     "output_type": "execute_result"
    }
   ],
   "source": [
    "popfit.shape"
   ]
  },
  {
   "cell_type": "code",
   "execution_count": 8,
   "metadata": {},
   "outputs": [
    {
     "data": {
      "text/plain": [
       "array([[-0.82074236, -1.72802379,  2.714328  ],\n",
       "       [ 3.9611284 ,  3.99646038, -0.39014557],\n",
       "       [ 0.49045751,  4.53523272,  4.90934566],\n",
       "       [ 2.3119507 , -2.46385816, -7.34368174],\n",
       "       [-8.18451093,  2.16308188, -4.12799727],\n",
       "       [-2.78479585, -1.36564757, -9.85041017],\n",
       "       [ 6.79164955, -3.03612509,  8.86967751],\n",
       "       [ 4.22407366, -7.53049386, -8.8076379 ],\n",
       "       [ 9.84860135,  3.51130775,  9.99336009],\n",
       "       [ 5.35993233,  9.98878386,  9.59084163]])"
      ]
     },
     "execution_count": 8,
     "metadata": {},
     "output_type": "execute_result"
    }
   ],
   "source": [
    "a[idx]"
   ]
  },
  {
   "cell_type": "code",
   "execution_count": 18,
   "metadata": {},
   "outputs": [
    {
     "data": {
      "text/plain": [
       "array([[ 4.22407366, -7.53049386, -8.8076379 ],\n",
       "       [ 2.3119507 , -2.46385816, -7.34368174],\n",
       "       [-8.18451093,  2.16308188, -4.12799727],\n",
       "       [ 5.35993233,  9.98878386,  9.59084163],\n",
       "       [ 0.49045751,  4.53523272,  4.90934566],\n",
       "       [-2.78479585, -1.36564757, -9.85041017],\n",
       "       [ 3.9611284 ,  3.99646038, -0.39014557],\n",
       "       [-0.82074236, -1.72802379,  2.714328  ],\n",
       "       [ 6.79164955, -3.03612509,  8.86967751],\n",
       "       [ 9.84860135,  3.51130775,  9.99336009]])"
      ]
     },
     "execution_count": 18,
     "metadata": {},
     "output_type": "execute_result"
    }
   ],
   "source": [
    "a[i]"
   ]
  },
  {
   "cell_type": "code",
   "execution_count": 25,
   "metadata": {},
   "outputs": [
    {
     "name": "stdout",
     "output_type": "stream",
     "text": [
      "idx: [1 4 2]\n",
      "best idx: 4\n",
      "[-3.69104509 -0.73212688  5.96877314]\n"
     ]
    }
   ],
   "source": [
    "k = 3\n",
    "# Select 3 individuals (index)\n",
    "idx = np.random.choice(range(a.shape[0]), size=3, replace=False)\n",
    "print(\"idx: {}\".format(idx))\n",
    "\n",
    "#get best fitness of the \n",
    "#by argsort\n",
    "best_idx = idx[np.argsort(popfit[idx])[0]]\n",
    "print(\"best idx: {}\".format(best_idx))\n",
    "print(a[best_idx])"
   ]
  },
  {
   "cell_type": "code",
   "execution_count": 29,
   "metadata": {},
   "outputs": [
    {
     "data": {
      "text/plain": [
       "array([1, 4, 2])"
      ]
     },
     "execution_count": 29,
     "metadata": {},
     "output_type": "execute_result"
    }
   ],
   "source": [
    "idx"
   ]
  },
  {
   "cell_type": "code",
   "execution_count": 26,
   "metadata": {},
   "outputs": [
    {
     "data": {
      "text/plain": [
       "array([107.07088555, 172.27629801,  86.22860948, 142.93427804,\n",
       "        49.78607642,  57.42698245,  80.13234532,  99.12066527,\n",
       "        16.16288705,  11.13031366])"
      ]
     },
     "execution_count": 26,
     "metadata": {},
     "output_type": "execute_result"
    }
   ],
   "source": [
    "popfit"
   ]
  },
  {
   "cell_type": "code",
   "execution_count": 27,
   "metadata": {},
   "outputs": [
    {
     "data": {
      "text/plain": [
       "array([172.27629801,  49.78607642,  86.22860948])"
      ]
     },
     "execution_count": 27,
     "metadata": {},
     "output_type": "execute_result"
    }
   ],
   "source": [
    "popfit[idx]"
   ]
  },
  {
   "cell_type": "code",
   "execution_count": 28,
   "metadata": {},
   "outputs": [
    {
     "data": {
      "text/plain": [
       "array([1, 2, 0], dtype=int64)"
      ]
     },
     "execution_count": 28,
     "metadata": {},
     "output_type": "execute_result"
    }
   ],
   "source": [
    "np.argsort(popfit[idx])"
   ]
  },
  {
   "cell_type": "code",
   "execution_count": 18,
   "metadata": {},
   "outputs": [
    {
     "data": {
      "text/plain": [
       "array([0, 5, 1])"
      ]
     },
     "execution_count": 18,
     "metadata": {},
     "output_type": "execute_result"
    }
   ],
   "source": [
    "s = np.random.choice(range(a.shape[0]), size=3, replace=False)\n",
    "s"
   ]
  },
  {
   "cell_type": "code",
   "execution_count": 19,
   "metadata": {},
   "outputs": [],
   "source": [
    "fitness_selected = popfit[s]"
   ]
  },
  {
   "cell_type": "code",
   "execution_count": 20,
   "metadata": {},
   "outputs": [
    {
     "data": {
      "text/plain": [
       "array([107.07088555,  57.42698245, 172.27629801])"
      ]
     },
     "execution_count": 20,
     "metadata": {},
     "output_type": "execute_result"
    }
   ],
   "source": [
    "fitness_selected"
   ]
  },
  {
   "cell_type": "code",
   "execution_count": 21,
   "metadata": {},
   "outputs": [
    {
     "data": {
      "text/plain": [
       "array([1, 0, 2], dtype=int64)"
      ]
     },
     "execution_count": 21,
     "metadata": {},
     "output_type": "execute_result"
    }
   ],
   "source": [
    "np.argsort(fitness_selected)"
   ]
  },
  {
   "cell_type": "code",
   "execution_count": 22,
   "metadata": {},
   "outputs": [
    {
     "data": {
      "text/plain": [
       "array([7, 3, 0, 1, 5, 4, 6, 2], dtype=int64)"
      ]
     },
     "execution_count": 22,
     "metadata": {},
     "output_type": "execute_result"
    }
   ],
   "source": [
    "np.argsort(np.array([-1,4,90,-7,9.77,9.7,9.776,-7.1]))"
   ]
  },
  {
   "cell_type": "code",
   "execution_count": null,
   "metadata": {},
   "outputs": [],
   "source": [
    "idx_best = "
   ]
  },
  {
   "cell_type": "code",
   "execution_count": 33,
   "metadata": {},
   "outputs": [
    {
     "name": "stdout",
     "output_type": "stream",
     "text": [
      "h\n",
      "h\n",
      "h\n"
     ]
    }
   ],
   "source": [
    "for _ in range(3):\n",
    "    print(\"h\")"
   ]
  },
  {
   "cell_type": "code",
   "execution_count": 32,
   "metadata": {},
   "outputs": [
    {
     "data": {
      "text/plain": [
       "array([0., 0., 0., 0., 0., 0., 0., 0., 0., 0.])"
      ]
     },
     "execution_count": 32,
     "metadata": {},
     "output_type": "execute_result"
    }
   ],
   "source": [
    "np.zeros(10)"
   ]
  },
  {
   "cell_type": "code",
   "execution_count": 34,
   "metadata": {},
   "outputs": [],
   "source": [
    "i = np.array([0,1,1,1,9])"
   ]
  },
  {
   "cell_type": "code",
   "execution_count": 35,
   "metadata": {},
   "outputs": [
    {
     "data": {
      "text/plain": [
       "array([[ 1.89629502,  5.08390604, -8.81072359],\n",
       "       [ 3.77908259, -8.27577257, -9.46078333],\n",
       "       [ 3.77908259, -8.27577257, -9.46078333],\n",
       "       [ 3.77908259, -8.27577257, -9.46078333],\n",
       "       [-1.57331226, -2.54421345, -1.4771527 ]])"
      ]
     },
     "execution_count": 35,
     "metadata": {},
     "output_type": "execute_result"
    }
   ],
   "source": [
    "a[i]"
   ]
  },
  {
   "cell_type": "code",
   "execution_count": null,
   "metadata": {},
   "outputs": [],
   "source": []
  }
 ],
 "metadata": {
  "kernelspec": {
   "display_name": "Python 3.7.6 64-bit ('venv-dsti': virtualenv)",
   "language": "python",
   "name": "python37664bitvenvdstivirtualenv7ba1fde328d248888ff59296f3daa31f"
  },
  "language_info": {
   "codemirror_mode": {
    "name": "ipython",
    "version": 3
   },
   "file_extension": ".py",
   "mimetype": "text/x-python",
   "name": "python",
   "nbconvert_exporter": "python",
   "pygments_lexer": "ipython3",
   "version": "3.7.6"
  }
 },
 "nbformat": 4,
 "nbformat_minor": 4
}
